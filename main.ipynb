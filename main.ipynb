{
 "cells": [
  {
   "cell_type": "code",
   "execution_count": 1,
   "metadata": {},
   "outputs": [],
   "source": [
    "from src.workflow.article_workflow import ArticleWorkflow\n",
    "\n",
    "workflow = ArticleWorkflow(relational_db_path='./data/articles_test.sqlite')\n",
    "\n",
    "workflow.crawl_and_store_articles(urls = [\"https://techcrunch.com/category/artificial-intelligence/\"])\n",
    "\n",
    "\n",
    "# Sources that work:\n",
    "#\"http://openai.com/blog/\",\n",
    "#\"https://machinelearning.apple.com/\",\n",
    "#\"https://ai.googleblog.com/\",\n",
    "#\"https://www.technologyreview.com/topic/artificial-intelligence/\",\n",
    "#\"https://theconversation.com/uk/topics/artificial-intelligence-ai-90\"\n",
    "\n",
    "# Sources that don't work at this moment:\n",
    "# https://alphasignal.ai/\n",
    "# https://datamachina.substack.com/ # substack\n",
    "# https://jack-clark.net/\n",
    "# https://www.deeplearning.ai/the-batch/\n",
    "# https://github.com/trending?since=weekly\n",
    "\n",
    "\n",
    "workflow.summarize_articles()\n",
    "\n",
    "workflow.write_podcast_script()"
   ]
  },
  {
   "cell_type": "code",
   "execution_count": null,
   "metadata": {},
   "outputs": [],
   "source": []
  }
 ],
 "metadata": {
  "kernelspec": {
   "display_name": "venv",
   "language": "python",
   "name": "python3"
  },
  "language_info": {
   "codemirror_mode": {
    "name": "ipython",
    "version": 3
   },
   "file_extension": ".py",
   "mimetype": "text/x-python",
   "name": "python",
   "nbconvert_exporter": "python",
   "pygments_lexer": "ipython3",
   "version": "3.10.8"
  },
  "orig_nbformat": 4
 },
 "nbformat": 4,
 "nbformat_minor": 2
}
